{
 "cells": [
  {
   "cell_type": "code",
   "execution_count": 9,
   "id": "5a81fd14-c28b-4fc5-aa18-3a7ec9b61dfd",
   "metadata": {},
   "outputs": [],
   "source": [
    "import re"
   ]
  },
  {
   "cell_type": "code",
   "execution_count": 10,
   "id": "21b51614-4a4e-444f-96ed-3295b9469156",
   "metadata": {},
   "outputs": [],
   "source": [
    "with open('folha.txt', 'r', encoding='utf-8') as arquivo:\n",
    "    texto = arquivo.read()\n",
    "\n",
    "    ## Remover os '\\n' e os espaços em branco\n",
    "    texto = texto.replace('\\n', ' ').strip()\n",
    "    \n",
    "    cpf = re.search(r'\\d{3}\\.\\d{3}\\.\\d{3}-\\d{2}', texto) ## Procura padrão cpf\n",
    "    cpf = cpf.group() if cpf else None\n",
    "    \n",
    "    data_nasc = re.search(r'\\d{2}/\\d{2}/\\d{4}', texto) ## Procura padrão data nascimento\n",
    "    data_nasc = data_nasc.group() if data_nasc else None\n",
    "    \n",
    "    ## Procurar o nome, no caso o texto entre cpf e data de nascimento\n",
    "    ## OBS: talvez possa ser alterado\n",
    "    nome = None\n",
    "    if cpf and data_nasc:\n",
    "        nome_match = re.search(rf'{cpf}\\s+(.*?)\\s+{data_nasc}', texto)\n",
    "        nome = nome_match.group(1).strip() if nome_match else None\n",
    "    \n",
    "    documentoCPF = {\n",
    "        \"CPF\": cpf,\n",
    "        \"Nome\": nome,\n",
    "        \"Data de nascimento\": data_nasc\n",
    "    }"
   ]
  },
  {
   "cell_type": "code",
   "execution_count": 11,
   "id": "ad7b3bc9-57bd-4a3c-915b-904455c2fcb0",
   "metadata": {},
   "outputs": [
    {
     "name": "stdout",
     "output_type": "stream",
     "text": [
      "{'CPF': '000.000.000-00', 'Nome': 'NOME DA PESSOA', 'Data de nascimento': '01/01/1990'}\n"
     ]
    }
   ],
   "source": [
    "print(documentoCPF)"
   ]
  },
  {
   "cell_type": "code",
   "execution_count": null,
   "id": "4f44957d-5cda-4d6f-97ff-c5a7749d5285",
   "metadata": {},
   "outputs": [],
   "source": []
  }
 ],
 "metadata": {
  "kernelspec": {
   "display_name": "Python 3 (ipykernel)",
   "language": "python",
   "name": "python3"
  },
  "language_info": {
   "codemirror_mode": {
    "name": "ipython",
    "version": 3
   },
   "file_extension": ".py",
   "mimetype": "text/x-python",
   "name": "python",
   "nbconvert_exporter": "python",
   "pygments_lexer": "ipython3",
   "version": "3.12.7"
  }
 },
 "nbformat": 4,
 "nbformat_minor": 5
}
